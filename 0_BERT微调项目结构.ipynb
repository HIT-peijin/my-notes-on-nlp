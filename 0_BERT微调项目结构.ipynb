{
 "cells": [
  {
   "cell_type": "markdown",
   "metadata": {},
   "source": [
    "# BERT finetuning on Classification tasks\n",
    "### 授课老师：Michael\n",
    "&nbsp; \n"
   ]
  },
  {
   "cell_type": "markdown",
   "metadata": {},
   "source": [
    "# 1 前言\n",
    "## 1.1课程回顾\n",
    "\n",
    "前面我们学习了什么：\n",
    "\n",
    "### 1.1 BERT模型结构\n",
    "\n",
    "### 1.2 BERT预训练任务\n",
    "\n",
    "### 1.3 BERT微调"
   ]
  },
  {
   "cell_type": "markdown",
   "metadata": {},
   "source": [
    "## 1.2 本课内容\n",
    "\n",
    "<img src=\"imgs/项目结构.PNG\"  width=\"300\" height=\"500\" align=\"left\" />\n",
    "<img src=\"imgs/BERT微调项目.png\"  width=\"600\" height=\"400\" align=\"right\" />"
   ]
  },
  {
   "cell_type": "markdown",
   "metadata": {},
   "source": [
    "# 2 准备工作\n",
    "## 2.1项目环境配置\n",
    "\n",
    "* Python3.7\n",
    "* jupyter notebook\n",
    "* torch==1.6.0\n",
    "* transformers==3.0.2\n",
    "* seqeval==0.0.12\n",
    "* pytorch-crf==0.7.2\n",
    "\n",
    "代码运行环境建议使用Pycharm."
   ]
  },
  {
   "cell_type": "markdown",
   "metadata": {},
   "source": [
    "\n",
    "## 2.2 数据集下载\n",
    "  \n",
    "项目中自带数据集，大家只需要熟悉下数据的结构\n",
    "  "
   ]
  },
  {
   "cell_type": "markdown",
   "metadata": {},
   "source": [
    "# 3 算法模块及细节（jupyter和pycharm中演示）\n",
    "本项目的核心内容,例如：\n",
    "\n",
    "## 3.1  数据处理\n",
    "\n",
    "* 1 data process and load.ipynb\n",
    "\n",
    "## 3.2 模型构建\n",
    "\n",
    "* 2 model and loss function.ipynb\n",
    "\n",
    "## 3.3 模型训练与评估\n",
    "\n",
    "* 3 train and evaluate.ipynb\n",
    "\n",
    "## 3.4 参数设置与模型运行\n",
    "\n",
    "* 4 main.py\n",
    "  \n",
    "&nbsp;  \n",
    "  \n"
   ]
  },
  {
   "cell_type": "markdown",
   "metadata": {},
   "source": [
    "# 4 代码梳理及细节回顾(在pycharm中)\n",
    "\n",
    "回过头来再次浏览整个项目，并命令行运行代码\n",
    "\n",
    "  "
   ]
  },
  {
   "cell_type": "markdown",
   "metadata": {},
   "source": [
    "# 5 作业1\n",
    "\n",
    "日期：2021年7月14日\n",
    "  \n",
    "`【思考题】` 实现对BERT+classification layer，每层采用不同的学习率。\n",
    "\n",
    "\n",
    "---"
   ]
  },
  {
   "cell_type": "code",
   "execution_count": null,
   "metadata": {},
   "outputs": [],
   "source": []
  }
 ],
 "metadata": {
  "colab": {
   "authorship_tag": "ABX9TyMaJPtlMHur6DonwEyZLw5h",
   "collapsed_sections": [],
   "name": "data process and load.ipynb",
   "provenance": []
  },
  "kernelspec": {
   "display_name": "Python 3",
   "language": "python",
   "name": "python3"
  },
  "language_info": {
   "codemirror_mode": {
    "name": "ipython",
    "version": 3
   },
   "file_extension": ".py",
   "mimetype": "text/x-python",
   "name": "python",
   "nbconvert_exporter": "python",
   "pygments_lexer": "ipython3",
   "version": "3.7.3"
  }
 },
 "nbformat": 4,
 "nbformat_minor": 1
}
